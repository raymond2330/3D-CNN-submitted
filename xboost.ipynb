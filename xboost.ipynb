{
 "cells": [
  {
   "cell_type": "code",
   "execution_count": 1,
   "id": "9d540857",
   "metadata": {},
   "outputs": [
    {
     "name": "stdout",
     "output_type": "stream",
     "text": [
      "Collecting xgboost\n",
      "  Downloading xgboost-3.0.2-py3-none-manylinux_2_28_x86_64.whl.metadata (2.1 kB)\n",
      "Requirement already satisfied: numpy in ./extract/lib/python3.11/site-packages (from xgboost) (1.26.4)\n",
      "Requirement already satisfied: nvidia-nccl-cu12 in ./extract/lib/python3.11/site-packages (from xgboost) (2.21.5)\n",
      "Requirement already satisfied: scipy in ./extract/lib/python3.11/site-packages (from xgboost) (1.15.2)\n",
      "Downloading xgboost-3.0.2-py3-none-manylinux_2_28_x86_64.whl (253.9 MB)\n",
      "\u001b[2K   \u001b[90m━━━━━━━━━━━━━━━━━━━━━━━━━━━━━━━━━━━━━━━━\u001b[0m \u001b[32m253.9/253.9 MB\u001b[0m \u001b[31m19.6 MB/s\u001b[0m eta \u001b[36m0:00:00\u001b[0m00:01\u001b[0m00:01\u001b[0m\n",
      "\u001b[?25hInstalling collected packages: xgboost\n",
      "Successfully installed xgboost-3.0.2\n",
      "\n",
      "\u001b[1m[\u001b[0m\u001b[34;49mnotice\u001b[0m\u001b[1;39;49m]\u001b[0m\u001b[39;49m A new release of pip is available: \u001b[0m\u001b[31;49m24.0\u001b[0m\u001b[39;49m -> \u001b[0m\u001b[32;49m25.1.1\u001b[0m\n",
      "\u001b[1m[\u001b[0m\u001b[34;49mnotice\u001b[0m\u001b[1;39;49m]\u001b[0m\u001b[39;49m To update, run: \u001b[0m\u001b[32;49mpip install --upgrade pip\u001b[0m\n"
     ]
    }
   ],
   "source": [
    "!pip install xgboost"
   ]
  },
  {
   "cell_type": "code",
   "execution_count": 5,
   "id": "739a799c",
   "metadata": {},
   "outputs": [
    {
     "name": "stdout",
     "output_type": "stream",
     "text": [
      "Requirement already satisfied: xgboost in ./extract/lib/python3.11/site-packages (3.0.2)\n",
      "Requirement already satisfied: numpy in ./extract/lib/python3.11/site-packages (from xgboost) (1.26.4)\n",
      "Requirement already satisfied: nvidia-nccl-cu12 in ./extract/lib/python3.11/site-packages (from xgboost) (2.21.5)\n",
      "Requirement already satisfied: scipy in ./extract/lib/python3.11/site-packages (from xgboost) (1.15.2)\n",
      "\n",
      "\u001b[1m[\u001b[0m\u001b[34;49mnotice\u001b[0m\u001b[1;39;49m]\u001b[0m\u001b[39;49m A new release of pip is available: \u001b[0m\u001b[31;49m24.0\u001b[0m\u001b[39;49m -> \u001b[0m\u001b[32;49m25.1.1\u001b[0m\n",
      "\u001b[1m[\u001b[0m\u001b[34;49mnotice\u001b[0m\u001b[1;39;49m]\u001b[0m\u001b[39;49m To update, run: \u001b[0m\u001b[32;49mpip install --upgrade pip\u001b[0m\n"
     ]
    }
   ],
   "source": [
    "!pip install --upgrade xgboost"
   ]
  },
  {
   "cell_type": "code",
   "execution_count": 24,
   "id": "814f0eb8",
   "metadata": {},
   "outputs": [
    {
     "name": "stderr",
     "output_type": "stream",
     "text": [
      "/mnt/c/Users/Raymond/Desktop/3D-CNN/extract/lib/python3.11/site-packages/xgboost/training.py:183: UserWarning: [19:28:41] WARNING: /workspace/src/learner.cc:738: \n",
      "Parameters: { \"use_label_encoder\" } are not used.\n",
      "\n",
      "  bst.update(dtrain, iteration=i, fobj=obj)\n"
     ]
    },
    {
     "name": "stdout",
     "output_type": "stream",
     "text": [
      "Accuracy: 0.8085106382978723\n",
      "\n",
      "Classification Report:\n",
      "                 precision    recall  f1-score   support\n",
      "\n",
      "Non-suspicious       0.83      0.79      0.81        24\n",
      "    Suspicious       0.79      0.83      0.81        23\n",
      "\n",
      "      accuracy                           0.81        47\n",
      "     macro avg       0.81      0.81      0.81        47\n",
      "  weighted avg       0.81      0.81      0.81        47\n",
      "\n",
      "\n",
      "Confusion Matrix:\n",
      " [[19  5]\n",
      " [ 4 19]]\n"
     ]
    }
   ],
   "source": [
    "import os\n",
    "import numpy as np\n",
    "import pandas as pd\n",
    "from sklearn.model_selection import train_test_split\n",
    "from xgboost import XGBClassifier\n",
    "from sklearn.metrics import classification_report, confusion_matrix, accuracy_score\n",
    "\n",
    "# Function to load and flatten your data (landmarks, motion, velocity)\n",
    "def load_data(folder_landmarks, folder_motion, folder_velocity, class_label):\n",
    "    X = []\n",
    "    y = []\n",
    "    for fname in os.listdir(folder_landmarks):\n",
    "        if not fname.endswith('_landmarks.npy'):\n",
    "            continue\n",
    "\n",
    "        landmarks = np.load(os.path.join(folder_landmarks, fname))  # shape (T, 71, 2)\n",
    "        motion = np.load(os.path.join(folder_motion, fname.replace('_landmarks.npy', '_motion.npy')))\n",
    "        velocity = np.load(os.path.join(folder_velocity, fname.replace('_landmarks.npy', '_velocity.npy')))\n",
    "\n",
    "        # Flatten features: concat landmarks + motion + velocity for each frame, then flatten frames\n",
    "        features = np.concatenate([landmarks, motion, velocity], axis=2)  # (T, 71, 6)\n",
    "        features = features.reshape(features.shape[0], -1)  # (T, 426)\n",
    "\n",
    "        # Average frames to get a fixed-length feature vector per video\n",
    "        features_avg = np.mean(features, axis=0)  # (426,)\n",
    "\n",
    "        X.append(features_avg)\n",
    "        y.append(class_label)\n",
    "    return X, y\n",
    "\n",
    "# Load data\n",
    "classes = ['Non-suspicious', 'Suspicious']\n",
    "X, y = [], []\n",
    "\n",
    "for i, cls in enumerate(classes):\n",
    "    Xc, yc = load_data(\n",
    "        f'transformed/landmarks.npy/Train/{cls}',\n",
    "        f'transformed/motion.npy/Train/{cls}',\n",
    "        f'transformed/velocity.npy/Train/{cls}',\n",
    "        i\n",
    "    )\n",
    "    X.extend(Xc)\n",
    "    y.extend(yc)\n",
    "\n",
    "X = np.array(X)\n",
    "y = np.array(y)\n",
    "\n",
    "# Split train/validation\n",
    "X_train, X_val, y_train, y_val = train_test_split(X, y, test_size=0.2, random_state=42, stratify=y)\n",
    "\n",
    "# Initialize XGBoost classifier\n",
    "model = XGBClassifier(\n",
    "    objective='binary:logistic',\n",
    "    eval_metric='logloss',\n",
    "    use_label_encoder=False,\n",
    "    random_state=42,\n",
    "    n_estimators=100,\n",
    "    max_depth=10,\n",
    "    learning_rate=0.1,\n",
    "    subsample=0.8,\n",
    "    colsample_bytree=0.8\n",
    ")\n",
    "\n",
    "# Train\n",
    "model.fit(\n",
    "    X_train,\n",
    "    y_train,\n",
    "    # eval_set=[(X_val, y_val)],\n",
    "    # eval_metric='logloss',\n",
    "    # early_stopping_rounds=10,\n",
    "    # verbose=True\n",
    ")\n",
    "\n",
    "\n",
    "# Evaluate\n",
    "y_pred = model.predict(X_val)\n",
    "print(\"Accuracy:\", accuracy_score(y_val, y_pred))\n",
    "print(\"\\nClassification Report:\\n\", classification_report(y_val, y_pred, target_names=classes))\n",
    "print(\"\\nConfusion Matrix:\\n\", confusion_matrix(y_val, y_pred))\n"
   ]
  }
 ],
 "metadata": {
  "kernelspec": {
   "display_name": "extract",
   "language": "python",
   "name": "python3"
  },
  "language_info": {
   "codemirror_mode": {
    "name": "ipython",
    "version": 3
   },
   "file_extension": ".py",
   "mimetype": "text/x-python",
   "name": "python",
   "nbconvert_exporter": "python",
   "pygments_lexer": "ipython3",
   "version": "3.11.12"
  }
 },
 "nbformat": 4,
 "nbformat_minor": 5
}
