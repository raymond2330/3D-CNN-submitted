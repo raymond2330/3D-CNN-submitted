{
 "cells": [
  {
   "cell_type": "markdown",
   "id": "f8d7baae",
   "metadata": {},
   "source": [
    "## Irrelevants"
   ]
  },
  {
   "cell_type": "code",
   "execution_count": null,
   "id": "e918639d",
   "metadata": {
    "vscode": {
     "languageId": "plaintext"
    }
   },
   "outputs": [],
   "source": [
    "import tensorflow as tf\n",
    "tf.__version__"
   ]
  },
  {
   "cell_type": "code",
   "execution_count": null,
   "id": "e61437b1",
   "metadata": {
    "vscode": {
     "languageId": "plaintext"
    }
   },
   "outputs": [],
   "source": [
    "import tensorflow as tf\n",
    "\n",
    "# Check if GPU is available\n",
    "gpus = tf.config.list_physical_devices('GPU')\n",
    "if gpus:\n",
    "    print(\"GPUs are available:\")\n",
    "    for gpu in gpus:\n",
    "        print(f\"  - {gpu}\")\n",
    "else:\n",
    "    print(\"No GPUs found. Using CPU.\")"
   ]
  },
  {
   "cell_type": "code",
   "execution_count": null,
   "id": "27385f2c",
   "metadata": {
    "vscode": {
     "languageId": "plaintext"
    }
   },
   "outputs": [],
   "source": [
    "import os\n",
    "import cv2\n",
    "import numpy as np\n",
    "from tensorflow.keras.utils import to_categorical\n",
    "from sklearn.preprocessing import LabelEncoder\n",
    "\n",
    "# Constants\n",
    "IMG_SIZE = 64  # Resize frames to 64x64\n",
    "FRAMES = 30  # Fixed number of frames per video\n",
    "CHANNELS = 3  # RGB channels\n",
    "CLASSES = ['Suspicious', 'Non-suspicious']\n",
    "\n",
    "# Function to load videos and convert them to arrays\n",
    "def load_videos_from_folder(folder_path, class_labels):\n",
    "    data, labels = [], []\n",
    "    \n",
    "    for class_name in class_labels:\n",
    "        class_path = os.path.join(folder_path, class_name)\n",
    "        \n",
    "        for video_name in os.listdir(class_path):\n",
    "            video_path = os.path.join(class_path, video_name)\n",
    "            frames = extract_video_frames(video_path, FRAMES, IMG_SIZE)\n",
    "            \n",
    "            if frames is not None:\n",
    "                data.append(frames)\n",
    "                labels.append(class_name)\n",
    "    \n",
    "    return np.array(data), np.array(labels)\n",
    "\n",
    "# Function to extract fixed number of frames from a video\n",
    "def extract_video_frames(video_path, num_frames, img_size):\n",
    "    cap = cv2.VideoCapture(video_path)\n",
    "    frames = []\n",
    "    \n",
    "    total_frames = int(cap.get(cv2.CAP_PROP_FRAME_COUNT))\n",
    "    frame_indices = np.linspace(0, total_frames - 1, num_frames, dtype=int)  # Select evenly spaced frames\n",
    "    \n",
    "    for i in range(total_frames):\n",
    "        ret, frame = cap.read()\n",
    "        if not ret:\n",
    "            break\n",
    "        \n",
    "        if i in frame_indices:\n",
    "            frame = cv2.resize(frame, (img_size, img_size))\n",
    "            frames.append(frame)\n",
    "    \n",
    "    cap.release()\n",
    "    \n",
    "    if len(frames) < num_frames:  # Pad if not enough frames\n",
    "        frames.extend([frames[-1]] * (num_frames - len(frames)))\n",
    "    \n",
    "    return np.array(frames) if len(frames) == num_frames else None\n",
    "\n",
    "# Load datasets\n",
    "train_videos, train_labels = load_videos_from_folder(\"dataset/Train\", CLASSES)\n",
    "val_videos, val_labels = load_videos_from_folder(\"dataset/Val\", CLASSES)\n",
    "test_videos, test_labels = load_videos_from_folder(\"dataset/Test\", CLASSES)\n",
    "\n",
    "# Normalize data\n",
    "train_videos, val_videos, test_videos = train_videos / 255.0, val_videos / 255.0, test_videos / 255.0\n",
    "\n",
    "# Encode labels\n",
    "encoder = LabelEncoder()\n",
    "train_labels_enc = to_categorical(encoder.fit_transform(train_labels))\n",
    "val_labels_enc = to_categorical(encoder.transform(val_labels))\n",
    "test_labels_enc = to_categorical(encoder.transform(test_labels))\n",
    "\n",
    "print(f\"Train shape: {train_videos.shape}, Train labels: {train_labels_enc.shape}\")\n"
   ]
  },
  {
   "cell_type": "markdown",
   "id": "3e6ea086",
   "metadata": {},
   "source": [
    "## Extract frames to npy"
   ]
  },
  {
   "cell_type": "code",
   "execution_count": null,
   "id": "a5ec50ff",
   "metadata": {
    "vscode": {
     "languageId": "plaintext"
    }
   },
   "outputs": [],
   "source": [
    "import os\n",
    "import numpy as np\n",
    "import torch\n",
    "import torchvision.io as io\n",
    "import torchvision.transforms as T\n",
    "\n",
    "# Removes the dataset.npy folder\n",
    "!rm -rf dataset.npy\n",
    "\n",
    "IMG_SIZE = 216\n",
    "FRAMES = 20\n",
    "CHANNELS = 3\n",
    "CLASSES = ['Suspicious', 'Non-suspicious']\n",
    "DEVICE = \"cuda\" if torch.cuda.is_available() else \"cpu\"\n",
    "print(f\"Using device: {DEVICE}\")\n",
    "\n",
    "# Batch resize transform\n",
    "resize_transform = T.Resize((IMG_SIZE, IMG_SIZE))\n",
    "\n",
    "def extract_video_frames(video_path, num_frames, img_size):\n",
    "    try:\n",
    "        video, _, _ = io.read_video(video_path, pts_unit='sec')\n",
    "    except Exception as e:\n",
    "        print(f\"Error reading {video_path}: {e}\")\n",
    "        return None\n",
    "\n",
    "    total_frames = video.shape[0]\n",
    "    if total_frames < 1:\n",
    "        return None\n",
    "\n",
    "    indices = torch.linspace(0, total_frames - 1, num_frames).long()\n",
    "    frames = video[indices]  # (T, H, W, C)\n",
    "    frames = frames.permute(0, 3, 1, 2).float() / 255.0  # (T, C, H, W)\n",
    "    frames = frames.to(DEVICE)\n",
    "\n",
    "    # Efficient batch resize\n",
    "    resized = T.functional.resize(frames, [img_size, img_size])  # batch resize\n",
    "    resized = resized.permute(0, 2, 3, 1).cpu().numpy()  # back to (T, H, W, C)\n",
    "\n",
    "    return resized\n",
    "\n",
    "def save_preprocessed_videos(input_folder, output_folder, class_labels):\n",
    "    os.makedirs(output_folder, exist_ok=True)\n",
    "\n",
    "    for class_name in class_labels:\n",
    "        class_input_path = os.path.join(input_folder, class_name)\n",
    "        class_output_path = os.path.join(output_folder, class_name)\n",
    "        os.makedirs(class_output_path, exist_ok=True)\n",
    "\n",
    "        for video_name in os.listdir(class_input_path):\n",
    "            if not video_name.lower().endswith((\".mp4\", \".avi\", \".mov\")):\n",
    "                continue\n",
    "\n",
    "            video_path = os.path.join(class_input_path, video_name)\n",
    "            output_file_path = os.path.join(class_output_path, video_name.replace('.mp4', '.npy'))\n",
    "\n",
    "            if os.path.exists(output_file_path):\n",
    "                print(f\"Skipping {output_file_path}, already exists.\")\n",
    "                continue\n",
    "\n",
    "            frames = extract_video_frames(video_path, FRAMES, IMG_SIZE)\n",
    "\n",
    "            if frames is not None:\n",
    "                np.save(output_file_path, frames)\n",
    "                # print(f\"Saved: {output_file_path}\")\n",
    "            else:\n",
    "                print(f\"Failed: {video_path}\")\n",
    "\n",
    "save_preprocessed_videos(\"dataset/Train\", \"dataset.npy/Train\", CLASSES)\n",
    "save_preprocessed_videos(\"dataset/Val\", \"dataset.npy/Val\", CLASSES)\n",
    "save_preprocessed_videos(\"dataset/Test\", \"dataset.npy/Test\", CLASSES)\n",
    "\n",
    "print(\"Preprocessing complete.\")"
   ]
  }
 ],
 "metadata": {
  "language_info": {
   "name": "python"
  }
 },
 "nbformat": 4,
 "nbformat_minor": 5
}
