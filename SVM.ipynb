{
 "cells": [
  {
   "cell_type": "code",
   "execution_count": 1,
   "id": "a41c789b",
   "metadata": {},
   "outputs": [
    {
     "name": "stdout",
     "output_type": "stream",
     "text": [
      "Requirement already satisfied: numpy in ./extract/lib/python3.11/site-packages (1.26.4)\n",
      "Requirement already satisfied: scikit-learn in ./extract/lib/python3.11/site-packages (1.6.1)\n",
      "Requirement already satisfied: scipy>=1.6.0 in ./extract/lib/python3.11/site-packages (from scikit-learn) (1.15.2)\n",
      "Requirement already satisfied: joblib>=1.2.0 in ./extract/lib/python3.11/site-packages (from scikit-learn) (1.4.2)\n",
      "Requirement already satisfied: threadpoolctl>=3.1.0 in ./extract/lib/python3.11/site-packages (from scikit-learn) (3.6.0)\n",
      "\n",
      "\u001b[1m[\u001b[0m\u001b[34;49mnotice\u001b[0m\u001b[1;39;49m]\u001b[0m\u001b[39;49m A new release of pip is available: \u001b[0m\u001b[31;49m24.0\u001b[0m\u001b[39;49m -> \u001b[0m\u001b[32;49m25.1.1\u001b[0m\n",
      "\u001b[1m[\u001b[0m\u001b[34;49mnotice\u001b[0m\u001b[1;39;49m]\u001b[0m\u001b[39;49m To update, run: \u001b[0m\u001b[32;49mpip install --upgrade pip\u001b[0m\n"
     ]
    }
   ],
   "source": [
    "!pip install numpy scikit-learn"
   ]
  },
  {
   "cell_type": "code",
   "execution_count": 13,
   "id": "b46634d1",
   "metadata": {},
   "outputs": [
    {
     "name": "stdout",
     "output_type": "stream",
     "text": [
      "                precision    recall  f1-score   support\n",
      "\n",
      "Non-suspicious       0.67      0.93      0.78       116\n",
      "    Suspicious       0.89      0.54      0.67       116\n",
      "\n",
      "      accuracy                           0.74       232\n",
      "     macro avg       0.78      0.74      0.73       232\n",
      "  weighted avg       0.78      0.74      0.73       232\n",
      "\n"
     ]
    }
   ],
   "source": [
    "import os\n",
    "import numpy as np\n",
    "from sklearn.svm import SVC\n",
    "from sklearn.model_selection import train_test_split\n",
    "from sklearn.preprocessing import StandardScaler\n",
    "from sklearn.metrics import classification_report\n",
    "\n",
    "# Load your .npy files\n",
    "def load_data(folder_landmarks, folder_motion, folder_velocity, class_label):\n",
    "    X = []\n",
    "    y = []\n",
    "    for fname in os.listdir(folder_landmarks):\n",
    "        if not fname.endswith('_landmarks.npy'):\n",
    "            continue\n",
    "\n",
    "        base = fname.replace('_landmarks.npy', '')\n",
    "        try:\n",
    "            l = np.load(os.path.join(folder_landmarks, fname))\n",
    "            m = np.load(os.path.join(folder_motion, f\"{base}_motion.npy\"))\n",
    "            v = np.load(os.path.join(folder_velocity, f\"{base}_velocity.npy\"))\n",
    "\n",
    "            # Flatten and concatenate\n",
    "            features = np.concatenate([\n",
    "                l.flatten(),\n",
    "                m.flatten(),\n",
    "                v.flatten()\n",
    "            ])\n",
    "            X.append(features)\n",
    "            y.append(class_label)\n",
    "        except Exception as e:\n",
    "            print(f\"Error loading {fname}: {e}\")\n",
    "\n",
    "    return X, y\n",
    "\n",
    "X_train, y_train = [], []\n",
    "for i, cls in enumerate(['Non-suspicious', 'Suspicious']):\n",
    "    Xc, yc = load_data(\n",
    "        f'transformed/landmarks.npy/Train/{cls}',\n",
    "        f'transformed/motion.npy/Train/{cls}',\n",
    "        f'transformed/velocity.npy/Train/{cls}',\n",
    "        i  # 0 or 1\n",
    "    )\n",
    "    X_train.extend(Xc)\n",
    "    y_train.extend(yc)\n",
    "\n",
    "X_train = np.array(X_train)\n",
    "y_train = np.array(y_train)\n",
    "\n",
    "# Normalize features\n",
    "scaler = StandardScaler()\n",
    "X_train_scaled = scaler.fit_transform(X_train)\n",
    "\n",
    "# Train SVM\n",
    "clf = SVC(kernel='rbf', C=1, gamma='scale', probability=True)\n",
    "clf.fit(X_train_scaled, y_train)\n",
    "\n",
    "# Optional: Evaluate\n",
    "y_pred = clf.predict(X_train_scaled)\n",
    "print(classification_report(y_train, y_pred, target_names=['Non-suspicious', 'Suspicious']))\n"
   ]
  }
 ],
 "metadata": {
  "kernelspec": {
   "display_name": "extract",
   "language": "python",
   "name": "python3"
  },
  "language_info": {
   "codemirror_mode": {
    "name": "ipython",
    "version": 3
   },
   "file_extension": ".py",
   "mimetype": "text/x-python",
   "name": "python",
   "nbconvert_exporter": "python",
   "pygments_lexer": "ipython3",
   "version": "3.11.12"
  }
 },
 "nbformat": 4,
 "nbformat_minor": 5
}
